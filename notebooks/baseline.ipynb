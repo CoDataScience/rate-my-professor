{
 "cells": [
  {
   "cell_type": "code",
   "execution_count": 2,
   "metadata": {
    "collapsed": true
   },
   "outputs": [],
   "source": [
    "import pandas as pd"
   ]
  },
  {
   "cell_type": "code",
   "execution_count": 7,
   "metadata": {
    "collapsed": false
   },
   "outputs": [],
   "source": [
    "# Read in the data with pandas http://pandas.pydata.org\n",
    "data = pd.read_csv('train.csv')\n",
    "\n",
    "# Remove nulls and replace them with blanks\n",
    "data['comments'] = data['comments'].fillna('')"
   ]
  },
  {
   "cell_type": "code",
   "execution_count": 8,
   "metadata": {
    "collapsed": false
   },
   "outputs": [
    {
     "data": {
      "text/html": [
       "<div>\n",
       "<table border=\"1\" class=\"dataframe\">\n",
       "  <thead>\n",
       "    <tr style=\"text-align: right;\">\n",
       "      <th></th>\n",
       "      <th>id</th>\n",
       "      <th>tid</th>\n",
       "      <th>dept</th>\n",
       "      <th>date</th>\n",
       "      <th>forcredit</th>\n",
       "      <th>attendance</th>\n",
       "      <th>textbookuse</th>\n",
       "      <th>interest</th>\n",
       "      <th>grade</th>\n",
       "      <th>tags</th>\n",
       "      <th>comments</th>\n",
       "      <th>helpcount</th>\n",
       "      <th>nothelpcount</th>\n",
       "      <th>online</th>\n",
       "      <th>profgender</th>\n",
       "      <th>profhotness</th>\n",
       "      <th>helpfulness</th>\n",
       "      <th>clarity</th>\n",
       "      <th>easiness</th>\n",
       "      <th>quality</th>\n",
       "    </tr>\n",
       "  </thead>\n",
       "  <tbody>\n",
       "    <tr>\n",
       "      <th>0</th>\n",
       "      <td>24228248</td>\n",
       "      <td>916674</td>\n",
       "      <td>Business</td>\n",
       "      <td>01/05/2015</td>\n",
       "      <td>Yes</td>\n",
       "      <td>NaN</td>\n",
       "      <td>It's a must have</td>\n",
       "      <td>Really into it</td>\n",
       "      <td>NaN</td>\n",
       "      <td>[\"Would take again\", \"Hilarious\", \"Tests are t...</td>\n",
       "      <td>Great Professor My wife took this class twice ...</td>\n",
       "      <td>0</td>\n",
       "      <td>10</td>\n",
       "      <td>NaN</td>\n",
       "      <td>0</td>\n",
       "      <td>0</td>\n",
       "      <td>4</td>\n",
       "      <td>5</td>\n",
       "      <td>3</td>\n",
       "      <td>9</td>\n",
       "    </tr>\n",
       "    <tr>\n",
       "      <th>1</th>\n",
       "      <td>24218909</td>\n",
       "      <td>916674</td>\n",
       "      <td>Business</td>\n",
       "      <td>01/02/2015</td>\n",
       "      <td>Yes</td>\n",
       "      <td>Mandatory</td>\n",
       "      <td>It's a must have</td>\n",
       "      <td>Sorta interested</td>\n",
       "      <td>A</td>\n",
       "      <td>[\"Skip class? You won't pass.\", \"Tests are tou...</td>\n",
       "      <td>Great Professor Study the notes from class and...</td>\n",
       "      <td>0</td>\n",
       "      <td>1</td>\n",
       "      <td>NaN</td>\n",
       "      <td>0</td>\n",
       "      <td>0</td>\n",
       "      <td>4</td>\n",
       "      <td>4</td>\n",
       "      <td>2</td>\n",
       "      <td>8</td>\n",
       "    </tr>\n",
       "    <tr>\n",
       "      <th>2</th>\n",
       "      <td>24215795</td>\n",
       "      <td>916674</td>\n",
       "      <td>Business</td>\n",
       "      <td>01/02/2015</td>\n",
       "      <td>Yes</td>\n",
       "      <td>NaN</td>\n",
       "      <td>Essential to passing</td>\n",
       "      <td>Really into it</td>\n",
       "      <td>NaN</td>\n",
       "      <td>[\"Hilarious\", \"Would take again\", \"Skip class?...</td>\n",
       "      <td>Brother Brau is a great guy He gives great spi...</td>\n",
       "      <td>1</td>\n",
       "      <td>2</td>\n",
       "      <td>NaN</td>\n",
       "      <td>0</td>\n",
       "      <td>0</td>\n",
       "      <td>4</td>\n",
       "      <td>4</td>\n",
       "      <td>3</td>\n",
       "      <td>8</td>\n",
       "    </tr>\n",
       "    <tr>\n",
       "      <th>3</th>\n",
       "      <td>24204179</td>\n",
       "      <td>916674</td>\n",
       "      <td>Business</td>\n",
       "      <td>12/30/2014</td>\n",
       "      <td>Yes</td>\n",
       "      <td>Not Mandatory</td>\n",
       "      <td>Essential to passing</td>\n",
       "      <td>Sorta interested</td>\n",
       "      <td>NaN</td>\n",
       "      <td>[\"Tests are tough\", \"Get ready to read\"]</td>\n",
       "      <td>People rave about Brau but I personally dont g...</td>\n",
       "      <td>18</td>\n",
       "      <td>6</td>\n",
       "      <td>NaN</td>\n",
       "      <td>0</td>\n",
       "      <td>0</td>\n",
       "      <td>3</td>\n",
       "      <td>1</td>\n",
       "      <td>2</td>\n",
       "      <td>4</td>\n",
       "    </tr>\n",
       "    <tr>\n",
       "      <th>4</th>\n",
       "      <td>24198463</td>\n",
       "      <td>916674</td>\n",
       "      <td>Business</td>\n",
       "      <td>12/28/2014</td>\n",
       "      <td>Yes</td>\n",
       "      <td>Not Mandatory</td>\n",
       "      <td>You need it sometimes</td>\n",
       "      <td>Sorta interested</td>\n",
       "      <td>A</td>\n",
       "      <td>[\"Inspirational\", \"Hilarious\", \"Skip class? Yo...</td>\n",
       "      <td>This class doesnt have much homework which was...</td>\n",
       "      <td>1</td>\n",
       "      <td>0</td>\n",
       "      <td>NaN</td>\n",
       "      <td>0</td>\n",
       "      <td>0</td>\n",
       "      <td>4</td>\n",
       "      <td>4</td>\n",
       "      <td>4</td>\n",
       "      <td>8</td>\n",
       "    </tr>\n",
       "  </tbody>\n",
       "</table>\n",
       "</div>"
      ],
      "text/plain": [
       "         id     tid      dept        date forcredit     attendance  \\\n",
       "0  24228248  916674  Business  01/05/2015       Yes            NaN   \n",
       "1  24218909  916674  Business  01/02/2015       Yes      Mandatory   \n",
       "2  24215795  916674  Business  01/02/2015       Yes            NaN   \n",
       "3  24204179  916674  Business  12/30/2014       Yes  Not Mandatory   \n",
       "4  24198463  916674  Business  12/28/2014       Yes  Not Mandatory   \n",
       "\n",
       "             textbookuse          interest grade  \\\n",
       "0       It's a must have    Really into it   NaN   \n",
       "1       It's a must have  Sorta interested     A   \n",
       "2   Essential to passing    Really into it   NaN   \n",
       "3   Essential to passing  Sorta interested   NaN   \n",
       "4  You need it sometimes  Sorta interested     A   \n",
       "\n",
       "                                                tags  \\\n",
       "0  [\"Would take again\", \"Hilarious\", \"Tests are t...   \n",
       "1  [\"Skip class? You won't pass.\", \"Tests are tou...   \n",
       "2  [\"Hilarious\", \"Would take again\", \"Skip class?...   \n",
       "3           [\"Tests are tough\", \"Get ready to read\"]   \n",
       "4  [\"Inspirational\", \"Hilarious\", \"Skip class? Yo...   \n",
       "\n",
       "                                            comments  helpcount  nothelpcount  \\\n",
       "0  Great Professor My wife took this class twice ...          0            10   \n",
       "1  Great Professor Study the notes from class and...          0             1   \n",
       "2  Brother Brau is a great guy He gives great spi...          1             2   \n",
       "3  People rave about Brau but I personally dont g...         18             6   \n",
       "4  This class doesnt have much homework which was...          1             0   \n",
       "\n",
       "  online  profgender  profhotness  helpfulness  clarity  easiness  quality  \n",
       "0    NaN           0            0            4        5         3        9  \n",
       "1    NaN           0            0            4        4         2        8  \n",
       "2    NaN           0            0            4        4         3        8  \n",
       "3    NaN           0            0            3        1         2        4  \n",
       "4    NaN           0            0            4        4         4        8  "
      ]
     },
     "execution_count": 8,
     "metadata": {},
     "output_type": "execute_result"
    }
   ],
   "source": [
    "# Lets take a look at the data\n",
    "data.head()"
   ]
  },
  {
   "cell_type": "markdown",
   "metadata": {},
   "source": [
    "# Notes\n",
    "In training the id doesn't matter, but this is the column to keep for predictions on test.csv. Aside from that quality is the most important column since its what we are trying to predict\n",
    "\n",
    "For this tutorial/baseline lets use a simple unigram model of the comments with linear regresssion\n",
    "\n",
    "Its also important we separate training data from test data to prevent overfitting."
   ]
  },
  {
   "cell_type": "code",
   "execution_count": 5,
   "metadata": {
    "collapsed": true
   },
   "outputs": [],
   "source": [
    "from sklearn.feature_extraction.text import CountVectorizer\n",
    "from sklearn.linear_model import LinearRegression\n",
    "from sklearn.pipeline import Pipeline\n",
    "from sklearn.grid_search import GridSearchCV\n",
    "from sklearn.cross_validation import train_test_split"
   ]
  },
  {
   "cell_type": "code",
   "execution_count": 9,
   "metadata": {
    "collapsed": true
   },
   "outputs": [],
   "source": [
    "train, test = train_test_split(data)"
   ]
  },
  {
   "cell_type": "code",
   "execution_count": 10,
   "metadata": {
    "collapsed": false
   },
   "outputs": [],
   "source": [
    "# Make a pipeline to do unigrams then run linear regression\n",
    "# http://scikit-learn.org/stable/modules/generated/sklearn.pipeline.Pipeline.html\n",
    "pipeline = Pipeline([\n",
    "        ('cv', CountVectorizer()),\n",
    "        ('regression', LinearRegression())\n",
    "])\n",
    "\n",
    "# Use the cross validation feature of sklearn to get a good estimate of the error.\n",
    "# Before feeding in the comments we fill any nulls as empty strings\n",
    "# http://scikit-learn.org/stable/modules/generated/sklearn.grid_search.GridSearchCV.html\n",
    "cv = GridSearchCV(\n",
    "    pipeline, {}\n",
    ").fit(train['comments'], train['quality'])"
   ]
  },
  {
   "cell_type": "code",
   "execution_count": 12,
   "metadata": {
    "collapsed": false
   },
   "outputs": [
    {
     "name": "stdout",
     "output_type": "stream",
     "text": [
      "R Squared: 0.1397619335236992\n",
      "MSE: 5.238645822808021\n"
     ]
    }
   ],
   "source": [
    "# Output the best score, this is based on held out data in cross validation\n",
    "print(\"R Squared: {}\".format(cv.best_score_))\n",
    "\n",
    "# Output the Mean Squared Error using our held out training data\n",
    "from sklearn.metrics import mean_squared_error\n",
    "mse = mean_squared_error(test['quality'], cv.predict(test['comments']))\n",
    "print(\"MSE: {}\".format(mse))"
   ]
  },
  {
   "cell_type": "code",
   "execution_count": 13,
   "metadata": {
    "collapsed": true
   },
   "outputs": [],
   "source": [
    "# Load the kaggle test data\n",
    "kaggle_test = pd.read_csv('test.csv')\n",
    "kaggle_test['comments'] = kaggle_test['comments'].fillna('')"
   ]
  },
  {
   "cell_type": "code",
   "execution_count": 14,
   "metadata": {
    "collapsed": false
   },
   "outputs": [
    {
     "data": {
      "text/plain": [
       "array([ 11.11033054,   8.27763007,   7.23343964, ...,   8.33615437,\n",
       "         8.68797534,   6.32335439])"
      ]
     },
     "execution_count": 14,
     "metadata": {},
     "output_type": "execute_result"
    }
   ],
   "source": [
    "# Make training predictions\n",
    "predictions = cv.predict(kaggle_test['comments'])\n",
    "\n",
    "# Lets take a quick look at the predictions to make sure they are sensible, seems like it\n",
    "predictions"
   ]
  },
  {
   "cell_type": "code",
   "execution_count": 15,
   "metadata": {
    "collapsed": true
   },
   "outputs": [],
   "source": [
    "# Finally lets write out the predictions with their id's\n",
    "\n",
    "with open('predictions.csv', 'w') as f:\n",
    "    f.write(\"id,quality\\n\")\n",
    "    for row_id, prediction in zip(kaggle_test['id'], predictions):\n",
    "        f.write('{},{}\\n'.format(row_id, prediction))"
   ]
  },
  {
   "cell_type": "code",
   "execution_count": 16,
   "metadata": {
    "collapsed": false
   },
   "outputs": [],
   "source": [
    "# Save the model for later\n",
    "import pickle\n",
    "with open('model.pkl', 'bw') as f:\n",
    "    pickle.dump(cv, f)"
   ]
  },
  {
   "cell_type": "code",
   "execution_count": null,
   "metadata": {
    "collapsed": true
   },
   "outputs": [],
   "source": []
  }
 ],
 "metadata": {
  "anaconda-cloud": {},
  "kernelspec": {
   "display_name": "Python [Root]",
   "language": "python",
   "name": "Python [Root]"
  },
  "language_info": {
   "codemirror_mode": {
    "name": "ipython",
    "version": 3
   },
   "file_extension": ".py",
   "mimetype": "text/x-python",
   "name": "python",
   "nbconvert_exporter": "python",
   "pygments_lexer": "ipython3",
   "version": "3.5.2"
  }
 },
 "nbformat": 4,
 "nbformat_minor": 0
}
