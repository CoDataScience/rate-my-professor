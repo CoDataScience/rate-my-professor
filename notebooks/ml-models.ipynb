{
 "cells": [
  {
   "cell_type": "code",
   "execution_count": 42,
   "metadata": {
    "collapsed": false
   },
   "outputs": [],
   "source": [
    "%matplotlib inline\n",
    "import pandas as pd\n",
    "from sklearn.cross_validation import train_test_split\n",
    "from sklearn.feature_extraction.text import CountVectorizer\n",
    "from sklearn.pipeline import Pipeline\n",
    "from sklearn.grid_search import GridSearchCV\n",
    "from sklearn.metrics import mean_squared_error\n",
    "from sklearn.linear_model import LinearRegression, Ridge, Lasso"
   ]
  },
  {
   "cell_type": "code",
   "execution_count": 12,
   "metadata": {
    "collapsed": true
   },
   "outputs": [],
   "source": [
    "data = pd.read_csv('train.csv')\n",
    "data['comments'] = data['comments'].fillna('')\n",
    "train, test = train_test_split(data, train_size=.2)"
   ]
  },
  {
   "cell_type": "code",
   "execution_count": 17,
   "metadata": {
    "collapsed": false
   },
   "outputs": [],
   "source": [
    " def test_model(model, ngrams):\n",
    "    pipeline = Pipeline([\n",
    "            ('vectorizer', CountVectorizer(ngram_range=ngrams)),\n",
    "            ('model', model)\n",
    "    ])\n",
    "\n",
    "    cv = GridSearchCV(pipeline, {}, scoring='mean_squared_error', n_jobs=-1)\n",
    "    cv = cv.fit(train['comments'], train['quality'])\n",
    "    validation_score = cv.best_score_\n",
    "    predictions = cv.predict(test['comments'])\n",
    "    test_score = mean_squared_error(test['quality'], predictions)\n",
    "    return validation_score, test_score"
   ]
  },
  {
   "cell_type": "code",
   "execution_count": 26,
   "metadata": {
    "collapsed": false
   },
   "outputs": [],
   "source": [
    "import itertools\n",
    "\n",
    "models = [('ols', LinearRegression()), ('ridge', Ridge()), ('lasso', Lasso())]\n",
    "ngram_ranges = [(1, 1), (1, 2), (1, 3)]\n",
    "\n",
    "scores = []\n",
    "for m, ngram in itertools.product(models, ngram_ranges):\n",
    "    name = m[0]\n",
    "    model = m[1]\n",
    "    validation_score, test_score = test_model(model, ngram)\n",
    "    scores.append({'score': -validation_score, 'model': name, 'ngram': str(ngram), 'fold': 'validation'})\n",
    "    scores.append({'score': test_score, 'model': name, 'ngram': str(ngram), 'fold': 'test'})"
   ]
  },
  {
   "cell_type": "code",
   "execution_count": 69,
   "metadata": {
    "collapsed": false
   },
   "outputs": [
    {
     "data": {
      "image/png": "[encoded data removed]",
      "text/plain": [
       "<matplotlib.figure.Figure at 0x16f9b2518>"
      ]
     },
     "metadata": {},
     "output_type": "display_data"
    }
   ],
   "source": [
    "import seaborn as sb\n",
    "import matplotlib.pyplot as plt\n",
    "\n",
    "df = pd.DataFrame(scores)\n",
    "g = sb.FacetGrid(df, col='ngram', palette='Paired')\n",
    "g.map_dataframe(sb.barplot, 'model', 'score', hue='fold').add_legend()\n",
    "g.savefig('linear-models.png', format='png', dpi=300)"
   ]
  },
  {
   "cell_type": "code",
   "execution_count": 95,
   "metadata": {
    "collapsed": false
   },
   "outputs": [
    {
     "data": {
      "text/html": [
       "<div>\n",
       "<table border=\"1\" class=\"dataframe\">\n",
       "  <thead>\n",
       "    <tr style=\"text-align: right;\">\n",
       "      <th></th>\n",
       "      <th>fold</th>\n",
       "      <th>model</th>\n",
       "      <th>ngram</th>\n",
       "      <th>score</th>\n",
       "    </tr>\n",
       "  </thead>\n",
       "  <tbody>\n",
       "    <tr>\n",
       "      <th>0</th>\n",
       "      <td>validation</td>\n",
       "      <td>ols</td>\n",
       "      <td>(1, 1)</td>\n",
       "      <td>28.744166</td>\n",
       "    </tr>\n",
       "    <tr>\n",
       "      <th>1</th>\n",
       "      <td>test</td>\n",
       "      <td>ols</td>\n",
       "      <td>(1, 1)</td>\n",
       "      <td>13.084306</td>\n",
       "    </tr>\n",
       "    <tr>\n",
       "      <th>2</th>\n",
       "      <td>validation</td>\n",
       "      <td>ols</td>\n",
       "      <td>(1, 2)</td>\n",
       "      <td>10.633101</td>\n",
       "    </tr>\n",
       "    <tr>\n",
       "      <th>3</th>\n",
       "      <td>test</td>\n",
       "      <td>ols</td>\n",
       "      <td>(1, 2)</td>\n",
       "      <td>13.537418</td>\n",
       "    </tr>\n",
       "    <tr>\n",
       "      <th>4</th>\n",
       "      <td>validation</td>\n",
       "      <td>ols</td>\n",
       "      <td>(1, 3)</td>\n",
       "      <td>7.173745</td>\n",
       "    </tr>\n",
       "    <tr>\n",
       "      <th>5</th>\n",
       "      <td>test</td>\n",
       "      <td>ols</td>\n",
       "      <td>(1, 3)</td>\n",
       "      <td>7.494989</td>\n",
       "    </tr>\n",
       "    <tr>\n",
       "      <th>6</th>\n",
       "      <td>validation</td>\n",
       "      <td>ridge</td>\n",
       "      <td>(1, 1)</td>\n",
       "      <td>4.175966</td>\n",
       "    </tr>\n",
       "    <tr>\n",
       "      <th>7</th>\n",
       "      <td>test</td>\n",
       "      <td>ridge</td>\n",
       "      <td>(1, 1)</td>\n",
       "      <td>3.956131</td>\n",
       "    </tr>\n",
       "    <tr>\n",
       "      <th>8</th>\n",
       "      <td>validation</td>\n",
       "      <td>ridge</td>\n",
       "      <td>(1, 2)</td>\n",
       "      <td>4.318178</td>\n",
       "    </tr>\n",
       "    <tr>\n",
       "      <th>9</th>\n",
       "      <td>test</td>\n",
       "      <td>ridge</td>\n",
       "      <td>(1, 2)</td>\n",
       "      <td>4.281055</td>\n",
       "    </tr>\n",
       "    <tr>\n",
       "      <th>10</th>\n",
       "      <td>validation</td>\n",
       "      <td>ridge</td>\n",
       "      <td>(1, 3)</td>\n",
       "      <td>4.116938</td>\n",
       "    </tr>\n",
       "    <tr>\n",
       "      <th>11</th>\n",
       "      <td>test</td>\n",
       "      <td>ridge</td>\n",
       "      <td>(1, 3)</td>\n",
       "      <td>4.105863</td>\n",
       "    </tr>\n",
       "    <tr>\n",
       "      <th>12</th>\n",
       "      <td>validation</td>\n",
       "      <td>lasso</td>\n",
       "      <td>(1, 1)</td>\n",
       "      <td>7.208567</td>\n",
       "    </tr>\n",
       "    <tr>\n",
       "      <th>13</th>\n",
       "      <td>test</td>\n",
       "      <td>lasso</td>\n",
       "      <td>(1, 1)</td>\n",
       "      <td>7.111121</td>\n",
       "    </tr>\n",
       "    <tr>\n",
       "      <th>14</th>\n",
       "      <td>validation</td>\n",
       "      <td>lasso</td>\n",
       "      <td>(1, 2)</td>\n",
       "      <td>7.208567</td>\n",
       "    </tr>\n",
       "    <tr>\n",
       "      <th>15</th>\n",
       "      <td>test</td>\n",
       "      <td>lasso</td>\n",
       "      <td>(1, 2)</td>\n",
       "      <td>7.111121</td>\n",
       "    </tr>\n",
       "    <tr>\n",
       "      <th>16</th>\n",
       "      <td>validation</td>\n",
       "      <td>lasso</td>\n",
       "      <td>(1, 3)</td>\n",
       "      <td>7.208567</td>\n",
       "    </tr>\n",
       "    <tr>\n",
       "      <th>17</th>\n",
       "      <td>test</td>\n",
       "      <td>lasso</td>\n",
       "      <td>(1, 3)</td>\n",
       "      <td>7.111121</td>\n",
       "    </tr>\n",
       "  </tbody>\n",
       "</table>\n",
       "</div>"
      ],
      "text/plain": [
       "          fold  model   ngram      score\n",
       "0   validation    ols  (1, 1)  28.744166\n",
       "1         test    ols  (1, 1)  13.084306\n",
       "2   validation    ols  (1, 2)  10.633101\n",
       "3         test    ols  (1, 2)  13.537418\n",
       "4   validation    ols  (1, 3)   7.173745\n",
       "5         test    ols  (1, 3)   7.494989\n",
       "6   validation  ridge  (1, 1)   4.175966\n",
       "7         test  ridge  (1, 1)   3.956131\n",
       "8   validation  ridge  (1, 2)   4.318178\n",
       "9         test  ridge  (1, 2)   4.281055\n",
       "10  validation  ridge  (1, 3)   4.116938\n",
       "11        test  ridge  (1, 3)   4.105863\n",
       "12  validation  lasso  (1, 1)   7.208567\n",
       "13        test  lasso  (1, 1)   7.111121\n",
       "14  validation  lasso  (1, 2)   7.208567\n",
       "15        test  lasso  (1, 2)   7.111121\n",
       "16  validation  lasso  (1, 3)   7.208567\n",
       "17        test  lasso  (1, 3)   7.111121"
      ]
     },
     "execution_count": 95,
     "metadata": {},
     "output_type": "execute_result"
    }
   ],
   "source": [
    "df"
   ]
  },
  {
   "cell_type": "code",
   "execution_count": 86,
   "metadata": {
    "collapsed": false
   },
   "outputs": [],
   "source": [
    "from sklearn.tree import DecisionTreeRegressor\n",
    "tree_scores = []\n",
    "for i in [10, 25, 50, 75, 100]:\n",
    "    validation_score, test_score = test_model(DecisionTreeRegressor(max_depth=i), (1, 1))\n",
    "    tree_scores.append({'Max Depth': i, 'score': -validation_score, 'fold': 'validation'})\n",
    "    tree_scores.append({'Max Depth': i, 'score': test_score, 'fold': 'test'})"
   ]
  },
  {
   "cell_type": "code",
   "execution_count": 87,
   "metadata": {
    "collapsed": false
   },
   "outputs": [
    {
     "data": {
      "text/html": [
       "<div>\n",
       "<table border=\"1\" class=\"dataframe\">\n",
       "  <thead>\n",
       "    <tr style=\"text-align: right;\">\n",
       "      <th></th>\n",
       "      <th>Max Depth</th>\n",
       "      <th>fold</th>\n",
       "      <th>score</th>\n",
       "    </tr>\n",
       "  </thead>\n",
       "  <tbody>\n",
       "    <tr>\n",
       "      <th>0</th>\n",
       "      <td>10</td>\n",
       "      <td>validation</td>\n",
       "      <td>5.098938</td>\n",
       "    </tr>\n",
       "    <tr>\n",
       "      <th>1</th>\n",
       "      <td>10</td>\n",
       "      <td>test</td>\n",
       "      <td>5.004342</td>\n",
       "    </tr>\n",
       "    <tr>\n",
       "      <th>2</th>\n",
       "      <td>25</td>\n",
       "      <td>validation</td>\n",
       "      <td>5.474429</td>\n",
       "    </tr>\n",
       "    <tr>\n",
       "      <th>3</th>\n",
       "      <td>25</td>\n",
       "      <td>test</td>\n",
       "      <td>5.172275</td>\n",
       "    </tr>\n",
       "    <tr>\n",
       "      <th>4</th>\n",
       "      <td>50</td>\n",
       "      <td>validation</td>\n",
       "      <td>6.421006</td>\n",
       "    </tr>\n",
       "    <tr>\n",
       "      <th>5</th>\n",
       "      <td>50</td>\n",
       "      <td>test</td>\n",
       "      <td>6.025583</td>\n",
       "    </tr>\n",
       "    <tr>\n",
       "      <th>6</th>\n",
       "      <td>75</td>\n",
       "      <td>validation</td>\n",
       "      <td>6.720701</td>\n",
       "    </tr>\n",
       "    <tr>\n",
       "      <th>7</th>\n",
       "      <td>75</td>\n",
       "      <td>test</td>\n",
       "      <td>6.531834</td>\n",
       "    </tr>\n",
       "    <tr>\n",
       "      <th>8</th>\n",
       "      <td>100</td>\n",
       "      <td>validation</td>\n",
       "      <td>6.843992</td>\n",
       "    </tr>\n",
       "    <tr>\n",
       "      <th>9</th>\n",
       "      <td>100</td>\n",
       "      <td>test</td>\n",
       "      <td>6.594446</td>\n",
       "    </tr>\n",
       "  </tbody>\n",
       "</table>\n",
       "</div>"
      ],
      "text/plain": [
       "   Max Depth        fold     score\n",
       "0         10  validation  5.098938\n",
       "1         10        test  5.004342\n",
       "2         25  validation  5.474429\n",
       "3         25        test  5.172275\n",
       "4         50  validation  6.421006\n",
       "5         50        test  6.025583\n",
       "6         75  validation  6.720701\n",
       "7         75        test  6.531834\n",
       "8        100  validation  6.843992\n",
       "9        100        test  6.594446"
      ]
     },
     "execution_count": 87,
     "metadata": {},
     "output_type": "execute_result"
    }
   ],
   "source": [
    "tree_df = pd.DataFrame(tree_scores)\n",
    "tree_df"
   ]
  },
  {
   "cell_type": "code",
   "execution_count": 91,
   "metadata": {
    "collapsed": false
   },
   "outputs": [
    {
     "data": {
      "image/png": "[encoded data removed]",
      "text/plain": [
       "<matplotlib.figure.Figure at 0x11c60b320>"
      ]
     },
     "metadata": {},
     "output_type": "display_data"
    }
   ],
   "source": [
    "g = sb.barplot(x='Max Depth', y='score', hue='fold', data=tree_df, ci=None)\n",
    "plt.legend(loc='upper left')\n",
    "plt.ylabel('MSE Score')\n",
    "plt.title('Decision Tree Error with Max Depth')\n",
    "plt.savefig('plot-tree-overfitting.png', format='png', dpi=300)"
   ]
  },
  {
   "cell_type": "code",
   "execution_count": 90,
   "metadata": {
    "collapsed": false
   },
   "outputs": [],
   "source": [
    "from sklearn.ensemble import RandomForestRegressor\n",
    "\n",
    "rf_scores = []\n",
    "for i in [10, 25, 50, 75, 100]:\n",
    "    validation_score, test_score = test_model(\n",
    "        RandomForestRegressor(max_depth=i, n_jobs=-1),\n",
    "        (1, 1)\n",
    "    )\n",
    "    rf_scores.append({'Max Depth': i, 'score': -validation_score, 'fold': 'validation'})\n",
    "    rf_scores.append({'Max Depth': i, 'score': test_score, 'fold': 'test'})"
   ]
  },
  {
   "cell_type": "code",
   "execution_count": 92,
   "metadata": {
    "collapsed": false
   },
   "outputs": [
    {
     "data": {
      "text/html": [
       "<div>\n",
       "<table border=\"1\" class=\"dataframe\">\n",
       "  <thead>\n",
       "    <tr style=\"text-align: right;\">\n",
       "      <th></th>\n",
       "      <th>Max Depth</th>\n",
       "      <th>fold</th>\n",
       "      <th>score</th>\n",
       "    </tr>\n",
       "  </thead>\n",
       "  <tbody>\n",
       "    <tr>\n",
       "      <th>0</th>\n",
       "      <td>10</td>\n",
       "      <td>validation</td>\n",
       "      <td>4.838360</td>\n",
       "    </tr>\n",
       "    <tr>\n",
       "      <th>1</th>\n",
       "      <td>10</td>\n",
       "      <td>test</td>\n",
       "      <td>4.814044</td>\n",
       "    </tr>\n",
       "    <tr>\n",
       "      <th>2</th>\n",
       "      <td>25</td>\n",
       "      <td>validation</td>\n",
       "      <td>4.208798</td>\n",
       "    </tr>\n",
       "    <tr>\n",
       "      <th>3</th>\n",
       "      <td>25</td>\n",
       "      <td>test</td>\n",
       "      <td>4.104081</td>\n",
       "    </tr>\n",
       "    <tr>\n",
       "      <th>4</th>\n",
       "      <td>50</td>\n",
       "      <td>validation</td>\n",
       "      <td>4.065015</td>\n",
       "    </tr>\n",
       "    <tr>\n",
       "      <th>5</th>\n",
       "      <td>50</td>\n",
       "      <td>test</td>\n",
       "      <td>3.965905</td>\n",
       "    </tr>\n",
       "    <tr>\n",
       "      <th>6</th>\n",
       "      <td>75</td>\n",
       "      <td>validation</td>\n",
       "      <td>4.068770</td>\n",
       "    </tr>\n",
       "    <tr>\n",
       "      <th>7</th>\n",
       "      <td>75</td>\n",
       "      <td>test</td>\n",
       "      <td>3.947820</td>\n",
       "    </tr>\n",
       "    <tr>\n",
       "      <th>8</th>\n",
       "      <td>100</td>\n",
       "      <td>validation</td>\n",
       "      <td>4.051910</td>\n",
       "    </tr>\n",
       "    <tr>\n",
       "      <th>9</th>\n",
       "      <td>100</td>\n",
       "      <td>test</td>\n",
       "      <td>3.973747</td>\n",
       "    </tr>\n",
       "  </tbody>\n",
       "</table>\n",
       "</div>"
      ],
      "text/plain": [
       "   Max Depth        fold     score\n",
       "0         10  validation  4.838360\n",
       "1         10        test  4.814044\n",
       "2         25  validation  4.208798\n",
       "3         25        test  4.104081\n",
       "4         50  validation  4.065015\n",
       "5         50        test  3.965905\n",
       "6         75  validation  4.068770\n",
       "7         75        test  3.947820\n",
       "8        100  validation  4.051910\n",
       "9        100        test  3.973747"
      ]
     },
     "execution_count": 92,
     "metadata": {},
     "output_type": "execute_result"
    }
   ],
   "source": [
    "rf_df = pd.DataFrame(rf_scores)\n",
    "rf_df"
   ]
  },
  {
   "cell_type": "code",
   "execution_count": 94,
   "metadata": {
    "collapsed": false
   },
   "outputs": [
    {
     "data": {
      "image/png": "[encoded data removed]",
      "text/plain": [
       "<matplotlib.figure.Figure at 0x1216445c0>"
      ]
     },
     "metadata": {},
     "output_type": "display_data"
    }
   ],
   "source": [
    "g = sb.barplot(x='Max Depth', y='score', hue='fold', data=rf_df, ci=None)\n",
    "plt.legend(loc='upper right')\n",
    "plt.ylabel('MSE Score')\n",
    "plt.title('Random Forest Tree Error with Max Depth')\n",
    "plt.savefig('plot-rf-overfitting.png', format='png', dpi=300)"
   ]
  },
  {
   "cell_type": "code",
   "execution_count": 96,
   "metadata": {
    "collapsed": false
   },
   "outputs": [
    {
     "data": {
      "text/plain": [
       "(-4.0844345776560385, 3.9767695185989131)"
      ]
     },
     "execution_count": 96,
     "metadata": {},
     "output_type": "execute_result"
    }
   ],
   "source": [
    "test_model(\n",
    "        RandomForestRegressor(n_jobs=-1),\n",
    "        (1, 1)\n",
    "    )"
   ]
  },
  {
   "cell_type": "code",
   "execution_count": null,
   "metadata": {
    "collapsed": true
   },
   "outputs": [],
   "source": []
  }
 ],
 "metadata": {
  "anaconda-cloud": {},
  "kernelspec": {
   "display_name": "Python [default]",
   "language": "python",
   "name": "python3"
  },
  "language_info": {
   "codemirror_mode": {
    "name": "ipython",
    "version": 3
   },
   "file_extension": ".py",
   "mimetype": "text/x-python",
   "name": "python",
   "nbconvert_exporter": "python",
   "pygments_lexer": "ipython3",
   "version": "3.5.2"
  }
 },
 "nbformat": 4,
 "nbformat_minor": 0
}
